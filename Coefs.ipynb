{
 "cells": [
  {
   "cell_type": "code",
   "execution_count": 3,
   "id": "70a79e2e-eb33-4f95-aafc-2854b899e9f9",
   "metadata": {},
   "outputs": [
    {
     "name": "stdout",
     "output_type": "stream",
     "text": [
      "Requirement already satisfied: xlrd in /Library/Frameworks/Python.framework/Versions/3.9/lib/python3.9/site-packages (2.0.1)\n",
      "\u001b[33mWARNING: You are using pip version 21.3.1; however, version 22.0.3 is available.\n",
      "You should consider upgrading via the '/Library/Frameworks/Python.framework/Versions/3.9/bin/python3.9 -m pip install --upgrade pip' command.\u001b[0m\n",
      "Note: you may need to restart the kernel to use updated packages.\n"
     ]
    }
   ],
   "source": [
    "#pip install xlrd"
   ]
  },
  {
   "cell_type": "code",
   "execution_count": 1,
   "id": "96447c34-9d91-4c9c-bb0c-35d0da318cba",
   "metadata": {},
   "outputs": [
    {
     "data": {
      "text/html": [
       "<div>\n",
       "<style scoped>\n",
       "    .dataframe tbody tr th:only-of-type {\n",
       "        vertical-align: middle;\n",
       "    }\n",
       "\n",
       "    .dataframe tbody tr th {\n",
       "        vertical-align: top;\n",
       "    }\n",
       "\n",
       "    .dataframe thead th {\n",
       "        text-align: right;\n",
       "    }\n",
       "</style>\n",
       "<table border=\"1\" class=\"dataframe\">\n",
       "  <thead>\n",
       "    <tr style=\"text-align: right;\">\n",
       "      <th></th>\n",
       "      <th>Model</th>\n",
       "      <th>UCL</th>\n",
       "      <th>WC</th>\n",
       "      <th>EC</th>\n",
       "      <th>SAC</th>\n",
       "      <th>AFC</th>\n",
       "    </tr>\n",
       "  </thead>\n",
       "  <tbody>\n",
       "    <tr>\n",
       "      <th>1</th>\n",
       "      <td>M1</td>\n",
       "      <td>4.5</td>\n",
       "      <td>4</td>\n",
       "      <td>3</td>\n",
       "      <td>2</td>\n",
       "      <td>1</td>\n",
       "    </tr>\n",
       "    <tr>\n",
       "      <th>2</th>\n",
       "      <td>M2</td>\n",
       "      <td>0.0</td>\n",
       "      <td>4</td>\n",
       "      <td>3</td>\n",
       "      <td>2</td>\n",
       "      <td>1</td>\n",
       "    </tr>\n",
       "  </tbody>\n",
       "</table>\n",
       "</div>"
      ],
      "text/plain": [
       "  Model  UCL  WC  EC  SAC  AFC\n",
       "1    M1  4.5   4   3    2    1\n",
       "2    M2  0.0   4   3    2    1"
      ]
     },
     "execution_count": 1,
     "metadata": {},
     "output_type": "execute_result"
    }
   ],
   "source": [
    "import pandas as pd\n",
    "import datetime \n",
    "import math\n",
    "import numpy as np\n",
    "import matplotlib.pyplot as plt\n",
    "\n",
    "c_path = 'Coefs.csv'\n",
    "p_df = pd.read_csv(c_path) \n",
    "\n",
    "  \n",
    "p_df['Model'] = p_df['Model']\n",
    "p_df['UCL']= p_df['UCL']\n",
    "p_df['WC']= p_df['WC']\n",
    "p_df['EC']= p_df['EC']\n",
    "p_df['AFC']= p_df['AFC']\n",
    "p_df['SAC']= p_df['SAC']\n",
    "\n",
    "#p_df=p_df.set_index([pd.Index([1, 2, 3]),'Model'])\n",
    "                \n",
    "p_df.index = np.arange(1, len(p_df)+1)\n",
    "\n",
    "p_df\n",
    "\n",
    "#with pd.option_context('display.max_rows', None, 'display.max_columns', None):  # more options can be specified also\n",
    "# print(p_df.to_string(index=False))\n",
    "\n",
    "# Vizualization\n",
    "\n",
    "#df10 = pd.DataFrame(p_df)\n",
    "#ax = df10.plot.bar(x='Model',y='Score')  "
   ]
  },
  {
   "cell_type": "code",
   "execution_count": null,
   "id": "82f6e211-b168-4d75-b2e8-89c5c2d374a6",
   "metadata": {},
   "outputs": [],
   "source": []
  }
 ],
 "metadata": {
  "kernelspec": {
   "display_name": "Python 3 (ipykernel)",
   "language": "python",
   "name": "python3"
  },
  "language_info": {
   "codemirror_mode": {
    "name": "ipython",
    "version": 3
   },
   "file_extension": ".py",
   "mimetype": "text/x-python",
   "name": "python",
   "nbconvert_exporter": "python",
   "pygments_lexer": "ipython3",
   "version": "3.9.9"
  }
 },
 "nbformat": 4,
 "nbformat_minor": 5
}
